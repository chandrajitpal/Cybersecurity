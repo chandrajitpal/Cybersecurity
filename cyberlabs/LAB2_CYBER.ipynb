{
  "nbformat": 4,
  "nbformat_minor": 0,
  "metadata": {
    "colab": {
      "provenance": [],
      "authorship_tag": "ABX9TyPnTgEM7WbzsIe2ls9gcv9P",
      "include_colab_link": true
    },
    "kernelspec": {
      "name": "python3",
      "display_name": "Python 3"
    },
    "language_info": {
      "name": "python"
    }
  },
  "cells": [
    {
      "cell_type": "markdown",
      "metadata": {
        "id": "view-in-github",
        "colab_type": "text"
      },
      "source": [
        "<a href=\"https://colab.research.google.com/github/chandrajitpal/Cybersecurity/blob/main/cyberlabs/LAB2_CYBER.ipynb\" target=\"_parent\"><img src=\"https://colab.research.google.com/assets/colab-badge.svg\" alt=\"Open In Colab\"/></a>"
      ]
    },
    {
      "cell_type": "markdown",
      "source": [
        "# **NumPy multidimensional arrays:**\n",
        "\n",
        "NumPy was created to solve important scientific problems, which include linear algebra\n",
        "and matrix calculations. It offers a particularly optimized version, compared to the\n",
        "corresponding native versions of data structures offered by the Python language, such as\n",
        "lists of arrays and making multidimensional array objects, known as ndarrays ,\n",
        "available. In fact, an object of the ndarray type allows the acceleration of operations to\n",
        "reach speeds of up to 25 times faster compared to traditional for loops, which is necessary\n",
        "to manage access to data stored in a traditional Python list.\n",
        "Moreover, NumPy allows the management of operations on matrices, which is particularly\n",
        "useful for the implementation of ML algorithms. Unlike ndarray objects, matrices are\n",
        "objects that can take only two dimensions and represent the main data structures used in\n",
        "linear algebra."
      ],
      "metadata": {
        "id": "iob2vWTNKVAT"
      }
    },
    {
      "cell_type": "code",
      "execution_count": null,
      "metadata": {
        "id": "vmob8t-wWih1",
        "colab": {
          "base_uri": "https://localhost:8080/"
        },
        "outputId": "5e089430-9644-4590-cfce-9a6762768d34"
      },
      "outputs": [
        {
          "output_type": "stream",
          "name": "stdout",
          "text": [
            "[0 1 2 3]\n",
            "[0. 0. 0. 0. 0. 0. 0. 0. 0. 0.]\n"
          ]
        }
      ],
      "source": [
        "import numpy as np\n",
        "\n",
        "np_array = np.array( [0, 1, 2, 3] )\n",
        "\n",
        "# Creating an array with ten elements initialized as zero\n",
        "\n",
        "np_zero_array = np.zeros(10)\n",
        "\n",
        "print(np_array)\n",
        "\n",
        "print(np_zero_array)"
      ]
    },
    {
      "cell_type": "markdown",
      "source": [
        "### **Code Explanation**\n",
        "\n",
        "This code snippet demonstrates basic NumPy array creation and manipulation:\n",
        "It shows how to create a NumPy array from an existing list and how to create an array filled with zeros.\n",
        "\n",
        "    import numpy as np: This line imports the NumPy library and assigns it the alias np. This is a common convention that makes it easier to refer to NumPy functions later in the code.\n",
        "    np_array = np.array([0, 1, 2, 3]): This creates a NumPy array named np_array from a Python list containing the integers 0, 1, 2, and 3.\n",
        "    np_zero_array = np.zeros(10): This creates a NumPy array named np_zero_array with 10 elements, all initialized to the value 0.\n",
        "    print(np_array): This line prints the contents of the np_array to the console.\n",
        "    print(np_zero_array): This line prints the contents of the np_zero_array to the console.\n",
        "\n"
      ],
      "metadata": {
        "id": "W7AlKTcPLOmd"
      }
    },
    {
      "cell_type": "markdown",
      "source": [
        "### **Matrix operations with NumPy**\n",
        "\n",
        "As anticipated, matrices and the operations executed on them are of particular importance\n",
        "in the field of ML, and, more generally, they are used to conveniently represent the data to\n",
        "be fed to AI ​ algorithms.\n",
        "Matrices are particularly useful in the management and representation of large amounts of\n",
        "data. A special matrix, consisting of only one row (and several columns) is identified as\n",
        "a vector. Vectors can be represented in Python as objects of a list type.\n",
        "The basic operations that can be performed on matrices are as follows:\n",
        "\n",
        "\n",
        "*   Addition\n",
        "*   Subtraction\n",
        "*   Scalar multiplication (resulting in a constant value multiplied for each matrix element)\n",
        "\n",
        "\n",
        "When dealing with the product operation between matrices or between vectors and\n",
        "matrices, the rules of linear algebra are partly different, since, for example,\n",
        "the commutative property is not applicable as it is in the case of the product of two scalars.\n",
        "In fact, while in the case of the product of two numbers among them, the order of factors\n",
        "does not change the result of multiplication (that is, 2 x 3 = 3 x 2), in the case of the product\n",
        "of two matrices, the order is important:\n",
        "**aX != Xa**\n",
        "\n",
        "Here, X represents a matrix and a represents a vector of coefficients. Moreover, it is not\n",
        "always possible to multiply two matrices, as in the case of two matrices with incompatible\n",
        "dimensions.\n",
        "For this reason, the numpy library provides the dot() function to calculate the product of\n",
        "two matrices between them (usable whenever this operation is possible):"
      ],
      "metadata": {
        "id": "i6bwA68nLnUC"
      }
    },
    {
      "cell_type": "code",
      "source": [
        "import numpy as np\n",
        "\n",
        "a = np.array([-8, 15])\n",
        "\n",
        "X = np.array([[1, 5],\n",
        "              [3, 4],\n",
        "              [2, 3]])\n",
        "\n",
        "y = np.dot(X, a)\n",
        "\n",
        "print(y)"
      ],
      "metadata": {
        "colab": {
          "base_uri": "https://localhost:8080/"
        },
        "id": "hBSQG1tVNgn-",
        "outputId": "644d2cac-e969-464e-b48e-a719c0e0e50a"
      },
      "execution_count": null,
      "outputs": [
        {
          "output_type": "stream",
          "name": "stdout",
          "text": [
            "[67 36 29]\n"
          ]
        }
      ]
    },
    {
      "cell_type": "markdown",
      "source": [
        "In the preceding example, we calculate the product between matrix X and vector a using\n",
        "the np.dot() function.\n",
        "This product is the expression of the model:\n",
        "y = Xa\n",
        "It represents one of the most basic models used in ML to associate a set of weights ( a ) to\n",
        "an input data matrix ( X ) in order to obtain the estimated values ( y ) as output."
      ],
      "metadata": {
        "id": "DWBqS80lN7VB"
      }
    },
    {
      "cell_type": "markdown",
      "source": [
        "### **Implementing a simple predictor with NumPy**\n",
        "\n",
        "\n",
        "To fully understand the use of the dot() method of NumPy in matrix multiplication\n",
        "operations, we can try to implement a simple predictor from scratch, to predict future\n",
        "values starting from a set of multiple inputs and on the basis of relative weights, using the\n",
        "product between matrices and vectors:"
      ],
      "metadata": {
        "id": "o9VEjgkaN-2Z"
      }
    },
    {
      "cell_type": "code",
      "source": [
        "import numpy as np\n",
        "\n",
        "def predict(data, w):\n",
        "    return data.dot(w)\n",
        "\n",
        "\n",
        "# w is the vector of weights\n",
        "w = np.array([0.1, 0.2, 0.3])\n",
        "\n",
        "# matrices as input datasets\n",
        "data1 = np.array([0.3, 1.5, 2.8])\n",
        "\n",
        "data2 = np.array([0.5, 0.4, 0.9])\n",
        "\n",
        "data3 = np.array([2.3, 3.1, 0.5])\n",
        "\n",
        "\n",
        "data_in = np.array([data1[0],data2[0],data3[0]])\n",
        "\n",
        "print('Predicted value: $%.2f' %  predict(data_in, w) )"
      ],
      "metadata": {
        "colab": {
          "base_uri": "https://localhost:8080/"
        },
        "id": "66-HEq31OTOM",
        "outputId": "2a3007fa-cb83-430d-faa1-0db8251060e7"
      },
      "execution_count": null,
      "outputs": [
        {
          "output_type": "stream",
          "name": "stdout",
          "text": [
            "Predicted value: $0.82\n"
          ]
        }
      ]
    },
    {
      "cell_type": "markdown",
      "source": [
        "One of the best and most used ML libraries is definitely the scikit-learn library. First\n",
        "developed in 2007, the scikit-learn library provides a series of models and algorithms\n",
        "that are easily reusable in the development of customized solutions, which makes use of the\n",
        "main predictive methods and strategies, including the following:\n",
        "* Classification\n",
        "* Regression\n",
        "* Dimensionality reduction\n",
        "* Clustering\n",
        "\n",
        "The list does not end here; in fact, scikit-learn also provides ready-to-use modules that\n",
        "allow the following tasks:\n",
        "* Data preprocessing\n",
        "* Feature extraction\n",
        "* Hyperparameter optimization\n",
        "* Model evaluation\n",
        "\n",
        "The particularity of scikit-learn is that it uses the numpy library in addition to the SciPy\n",
        "library for scientific computing. As we have seen, NumPy allows the optimization of\n",
        "calculation operations performed on large datasets, using multidimensional arrays and\n",
        "matrices.\n",
        "Among the advantages of scikit-learn , we must not forget that it provides developers\n",
        "with a very clean application programming interface (API), which makes the development\n",
        "of customized tools from the classes of the library relatively simple.\n",
        "\n",
        "As an example of using the predictive analytics templates available in scikit-learn , we\n",
        "will show how to perform a prediction on training data (stored in the X matrix) using the\n",
        "linear regression model, based on a y weight vector.\n",
        "\n",
        "Our goal will be to use the **fit()** and **predict()** methods implemented in the\n",
        "LinearRegression class:"
      ],
      "metadata": {
        "id": "8Tknyb1lX8XU"
      }
    },
    {
      "cell_type": "code",
      "source": [
        "import numpy as np\n",
        "\n",
        "from sklearn.linear_model import LinearRegression\n",
        "\n",
        "# X is a matrix that represents the training dataset\n",
        "\n",
        "# y is a vector of weights, to be associated with input dataset\n",
        "\n",
        "X = np.array([[3], [5], [7], [9], [11]]).reshape(-1, 1)\n",
        "\n",
        "y = [8.0, 9.1, 10.3, 11.4, 12.6]\n",
        "\n",
        "\n",
        "lreg_model = LinearRegression()\n",
        "\n",
        "lreg_model.fit(X, y)\n",
        "\n",
        "\n",
        "# New data (unseen before)\n",
        "\n",
        "new_data = np.array([[13]])\n",
        "\n",
        "print('Model Prediction for new data: $%.2f' %  lreg_model.predict(new_data)[0]  )\n"
      ],
      "metadata": {
        "colab": {
          "base_uri": "https://localhost:8080/"
        },
        "id": "Qt9l4ewgYY02",
        "outputId": "6eb1a7ce-b0de-4942-86d3-1343dd90393f"
      },
      "execution_count": null,
      "outputs": [
        {
          "output_type": "stream",
          "name": "stdout",
          "text": [
            "Model Prediction for new data: $13.73\n"
          ]
        }
      ]
    },
    {
      "cell_type": "markdown",
      "source": [
        "### **Use of Matplotlib**\n",
        "\n",
        "In the following code, we show a simple example of using the matplotlib library, using\n",
        "the plot() method to plot input data obtained by the arange() method (array range) of\n",
        "the numpy library:"
      ],
      "metadata": {
        "id": "Tccl-OuiZxZi"
      }
    },
    {
      "cell_type": "code",
      "source": [
        "import numpy as np\n",
        "\n",
        "import matplotlib.pyplot as plt\n",
        "\n",
        "plt.plot(np.arange(15), np.arange(15))\n",
        "\n",
        "plt.show()"
      ],
      "metadata": {
        "colab": {
          "base_uri": "https://localhost:8080/",
          "height": 430
        },
        "id": "NSgg-b2Caqyf",
        "outputId": "1eb55a2e-38d4-4e33-a6af-80d58dae5e84"
      },
      "execution_count": null,
      "outputs": [
        {
          "output_type": "display_data",
          "data": {
            "text/plain": [
              "<Figure size 640x480 with 1 Axes>"
            ],
            "image/png": "[encoded data removed]"
          },
          "metadata": {}
        }
      ]
    },
    {
      "cell_type": "markdown",
      "source": [
        "### **Pandas**\n",
        "\n",
        "The last (but not least) among Python's most used libraries that we'll look at here, is the\n",
        "pandas package, which helps to simplify the ordinary activity of data cleaning (an activity\n",
        "that absorbs most of the analyst's time) in order to proceed with the subsequent data\n",
        "analysis phase.\n",
        "The implementation of pandas is very similar to that of the DataFrame package in R;\n",
        "DataFrame is nothing but a tabular structure used to store data in the form of a table, on\n",
        "which the columns represent the variables, while the rows represent the data itself.\n",
        "\n",
        "In the following example, we will show a typical use of a DataFrame, obtained as a result of\n",
        "the instantiation of the DataFrame class of pandas , which receives, as an input parameter,\n",
        "one of the datasets (the iris dataset) available in *scikit-learn* .\n",
        "\n",
        "After having instantiated the iris_df object of the DataFrame type, the head() and\n",
        "describe() methods of the pandas library are invoked, which shows us the first five\n",
        "records of the dataset, respectively, and some of the main statistical measures calculated in\n",
        "the dataset:"
      ],
      "metadata": {
        "id": "OvSwYXn2bs-i"
      }
    },
    {
      "cell_type": "code",
      "source": [
        "import pandas as pd\n",
        "from sklearn import datasets\n",
        "\n",
        "iris = datasets.load_iris()\n",
        "iris_df = pd.DataFrame(iris.data, columns = iris.feature_names)\n",
        "\n",
        "iris_df.head()\n",
        "iris_df.describe()\n"
      ],
      "metadata": {
        "colab": {
          "base_uri": "https://localhost:8080/",
          "height": 300
        },
        "id": "Am6uzReZd02l",
        "outputId": "7c816842-e1cb-431c-c35e-80d272ca7bf1"
      },
      "execution_count": null,
      "outputs": [
        {
          "output_type": "execute_result",
          "data": {
            "text/plain": [
              "       sepal length (cm)  sepal width (cm)  petal length (cm)  \\\n",
              "count         150.000000        150.000000         150.000000   \n",
              "mean            5.843333          3.057333           3.758000   \n",
              "std             0.828066          0.435866           1.765298   \n",
              "min             4.300000          2.000000           1.000000   \n",
              "25%             5.100000          2.800000           1.600000   \n",
              "50%             5.800000          3.000000           4.350000   \n",
              "75%             6.400000          3.300000           5.100000   \n",
              "max             7.900000          4.400000           6.900000   \n",
              "\n",
              "       petal width (cm)  \n",
              "count        150.000000  \n",
              "mean           1.199333  \n",
              "std            0.762238  \n",
              "min            0.100000  \n",
              "25%            0.300000  \n",
              "50%            1.300000  \n",
              "75%            1.800000  \n",
              "max            2.500000  "
            ],
            "text/html": [
              "\n",
              "  <div id=\"df-08c1c94d-c2f4-4832-bcc3-d2a320fbd20f\" class=\"colab-df-container\">\n",
              "    <div>\n",
              "<style scoped>\n",
              "    .dataframe tbody tr th:only-of-type {\n",
              "        vertical-align: middle;\n",
              "    }\n",
              "\n",
              "    .dataframe tbody tr th {\n",
              "        vertical-align: top;\n",
              "    }\n",
              "\n",
              "    .dataframe thead th {\n",
              "        text-align: right;\n",
              "    }\n",
              "</style>\n",
              "<table border=\"1\" class=\"dataframe\">\n",
              "  <thead>\n",
              "    <tr style=\"text-align: right;\">\n",
              "      <th></th>\n",
              "      <th>sepal length (cm)</th>\n",
              "      <th>sepal width (cm)</th>\n",
              "      <th>petal length (cm)</th>\n",
              "      <th>petal width (cm)</th>\n",
              "    </tr>\n",
              "  </thead>\n",
              "  <tbody>\n",
              "    <tr>\n",
              "      <th>count</th>\n",
              "      <td>150.000000</td>\n",
              "      <td>150.000000</td>\n",
              "      <td>150.000000</td>\n",
              "      <td>150.000000</td>\n",
              "    </tr>\n",
              "    <tr>\n",
              "      <th>mean</th>\n",
              "      <td>5.843333</td>\n",
              "      <td>3.057333</td>\n",
              "      <td>3.758000</td>\n",
              "      <td>1.199333</td>\n",
              "    </tr>\n",
              "    <tr>\n",
              "      <th>std</th>\n",
              "      <td>0.828066</td>\n",
              "      <td>0.435866</td>\n",
              "      <td>1.765298</td>\n",
              "      <td>0.762238</td>\n",
              "    </tr>\n",
              "    <tr>\n",
              "      <th>min</th>\n",
              "      <td>4.300000</td>\n",
              "      <td>2.000000</td>\n",
              "      <td>1.000000</td>\n",
              "      <td>0.100000</td>\n",
              "    </tr>\n",
              "    <tr>\n",
              "      <th>25%</th>\n",
              "      <td>5.100000</td>\n",
              "      <td>2.800000</td>\n",
              "      <td>1.600000</td>\n",
              "      <td>0.300000</td>\n",
              "    </tr>\n",
              "    <tr>\n",
              "      <th>50%</th>\n",
              "      <td>5.800000</td>\n",
              "      <td>3.000000</td>\n",
              "      <td>4.350000</td>\n",
              "      <td>1.300000</td>\n",
              "    </tr>\n",
              "    <tr>\n",
              "      <th>75%</th>\n",
              "      <td>6.400000</td>\n",
              "      <td>3.300000</td>\n",
              "      <td>5.100000</td>\n",
              "      <td>1.800000</td>\n",
              "    </tr>\n",
              "    <tr>\n",
              "      <th>max</th>\n",
              "      <td>7.900000</td>\n",
              "      <td>4.400000</td>\n",
              "      <td>6.900000</td>\n",
              "      <td>2.500000</td>\n",
              "    </tr>\n",
              "  </tbody>\n",
              "</table>\n",
              "</div>\n",
              "    <div class=\"colab-df-buttons\">\n",
              "\n",
              "  <div class=\"colab-df-container\">\n",
              "    <button class=\"colab-df-convert\" onclick=\"convertToInteractive('df-08c1c94d-c2f4-4832-bcc3-d2a320fbd20f')\"\n",
              "            title=\"Convert this dataframe to an interactive table.\"\n",
              "            style=\"display:none;\">\n",
              "\n",
              "  <svg xmlns=\"http://www.w3.org/2000/svg\" height=\"24px\" viewBox=\"0 -960 960 960\">\n",
              "    <path d=\"M120-120v-720h720v720H120Zm60-500h600v-160H180v160Zm220 220h160v-160H400v160Zm0 220h160v-160H400v160ZM180-400h160v-160H180v160Zm440 0h160v-160H620v160ZM180-180h160v-160H180v160Zm440 0h160v-160H620v160Z\"/>\n",
              "  </svg>\n",
              "    </button>\n",
              "\n",
              "  <style>\n",
              "    .colab-df-container {\n",
              "      display:flex;\n",
              "      gap: 12px;\n",
              "    }\n",
              "\n",
              "    .colab-df-convert {\n",
              "      background-color: #E8F0FE;\n",
              "      border: none;\n",
              "      border-radius: 50%;\n",
              "      cursor: pointer;\n",
              "      display: none;\n",
              "      fill: #1967D2;\n",
              "      height: 32px;\n",
              "      padding: 0 0 0 0;\n",
              "      width: 32px;\n",
              "    }\n",
              "\n",
              "    .colab-df-convert:hover {\n",
              "      background-color: #E2EBFA;\n",
              "      box-shadow: 0px 1px 2px rgba(60, 64, 67, 0.3), 0px 1px 3px 1px rgba(60, 64, 67, 0.15);\n",
              "      fill: #174EA6;\n",
              "    }\n",
              "\n",
              "    .colab-df-buttons div {\n",
              "      margin-bottom: 4px;\n",
              "    }\n",
              "\n",
              "    [theme=dark] .colab-df-convert {\n",
              "      background-color: #3B4455;\n",
              "      fill: #D2E3FC;\n",
              "    }\n",
              "\n",
              "    [theme=dark] .colab-df-convert:hover {\n",
              "      background-color: #434B5C;\n",
              "      box-shadow: 0px 1px 3px 1px rgba(0, 0, 0, 0.15);\n",
              "      filter: drop-shadow(0px 1px 2px rgba(0, 0, 0, 0.3));\n",
              "      fill: #FFFFFF;\n",
              "    }\n",
              "  </style>\n",
              "\n",
              "    <script>\n",
              "      const buttonEl =\n",
              "        document.querySelector('#df-08c1c94d-c2f4-4832-bcc3-d2a320fbd20f button.colab-df-convert');\n",
              "      buttonEl.style.display =\n",
              "        google.colab.kernel.accessAllowed ? 'block' : 'none';\n",
              "\n",
              "      async function convertToInteractive(key) {\n",
              "        const element = document.querySelector('#df-08c1c94d-c2f4-4832-bcc3-d2a320fbd20f');\n",
              "        const dataTable =\n",
              "          await google.colab.kernel.invokeFunction('convertToInteractive',\n",
              "                                                    [key], {});\n",
              "        if (!dataTable) return;\n",
              "\n",
              "        const docLinkHtml = 'Like what you see? Visit the ' +\n",
              "          '<a target=\"_blank\" href=https://colab.research.google.com/notebooks/data_table.ipynb>data table notebook</a>'\n",
              "          + ' to learn more about interactive tables.';\n",
              "        element.innerHTML = '';\n",
              "        dataTable['output_type'] = 'display_data';\n",
              "        await google.colab.output.renderOutput(dataTable, element);\n",
              "        const docLink = document.createElement('div');\n",
              "        docLink.innerHTML = docLinkHtml;\n",
              "        element.appendChild(docLink);\n",
              "      }\n",
              "    </script>\n",
              "  </div>\n",
              "\n",
              "\n",
              "    <div id=\"df-c4cb8e50-13d4-4f35-acb4-409cd7931c83\">\n",
              "      <button class=\"colab-df-quickchart\" onclick=\"quickchart('df-c4cb8e50-13d4-4f35-acb4-409cd7931c83')\"\n",
              "                title=\"Suggest charts\"\n",
              "                style=\"display:none;\">\n",
              "\n",
              "<svg xmlns=\"http://www.w3.org/2000/svg\" height=\"24px\"viewBox=\"0 0 24 24\"\n",
              "     width=\"24px\">\n",
              "    <g>\n",
              "        <path d=\"M19 3H5c-1.1 0-2 .9-2 2v14c0 1.1.9 2 2 2h14c1.1 0 2-.9 2-2V5c0-1.1-.9-2-2-2zM9 17H7v-7h2v7zm4 0h-2V7h2v10zm4 0h-2v-4h2v4z\"/>\n",
              "    </g>\n",
              "</svg>\n",
              "      </button>\n",
              "\n",
              "<style>\n",
              "  .colab-df-quickchart {\n",
              "      --bg-color: #E8F0FE;\n",
              "      --fill-color: #1967D2;\n",
              "      --hover-bg-color: #E2EBFA;\n",
              "      --hover-fill-color: #174EA6;\n",
              "      --disabled-fill-color: #AAA;\n",
              "      --disabled-bg-color: #DDD;\n",
              "  }\n",
              "\n",
              "  [theme=dark] .colab-df-quickchart {\n",
              "      --bg-color: #3B4455;\n",
              "      --fill-color: #D2E3FC;\n",
              "      --hover-bg-color: #434B5C;\n",
              "      --hover-fill-color: #FFFFFF;\n",
              "      --disabled-bg-color: #3B4455;\n",
              "      --disabled-fill-color: #666;\n",
              "  }\n",
              "\n",
              "  .colab-df-quickchart {\n",
              "    background-color: var(--bg-color);\n",
              "    border: none;\n",
              "    border-radius: 50%;\n",
              "    cursor: pointer;\n",
              "    display: none;\n",
              "    fill: var(--fill-color);\n",
              "    height: 32px;\n",
              "    padding: 0;\n",
              "    width: 32px;\n",
              "  }\n",
              "\n",
              "  .colab-df-quickchart:hover {\n",
              "    background-color: var(--hover-bg-color);\n",
              "    box-shadow: 0 1px 2px rgba(60, 64, 67, 0.3), 0 1px 3px 1px rgba(60, 64, 67, 0.15);\n",
              "    fill: var(--button-hover-fill-color);\n",
              "  }\n",
              "\n",
              "  .colab-df-quickchart-complete:disabled,\n",
              "  .colab-df-quickchart-complete:disabled:hover {\n",
              "    background-color: var(--disabled-bg-color);\n",
              "    fill: var(--disabled-fill-color);\n",
              "    box-shadow: none;\n",
              "  }\n",
              "\n",
              "  .colab-df-spinner {\n",
              "    border: 2px solid var(--fill-color);\n",
              "    border-color: transparent;\n",
              "    border-bottom-color: var(--fill-color);\n",
              "    animation:\n",
              "      spin 1s steps(1) infinite;\n",
              "  }\n",
              "\n",
              "  @keyframes spin {\n",
              "    0% {\n",
              "      border-color: transparent;\n",
              "      border-bottom-color: var(--fill-color);\n",
              "      border-left-color: var(--fill-color);\n",
              "    }\n",
              "    20% {\n",
              "      border-color: transparent;\n",
              "      border-left-color: var(--fill-color);\n",
              "      border-top-color: var(--fill-color);\n",
              "    }\n",
              "    30% {\n",
              "      border-color: transparent;\n",
              "      border-left-color: var(--fill-color);\n",
              "      border-top-color: var(--fill-color);\n",
              "      border-right-color: var(--fill-color);\n",
              "    }\n",
              "    40% {\n",
              "      border-color: transparent;\n",
              "      border-right-color: var(--fill-color);\n",
              "      border-top-color: var(--fill-color);\n",
              "    }\n",
              "    60% {\n",
              "      border-color: transparent;\n",
              "      border-right-color: var(--fill-color);\n",
              "    }\n",
              "    80% {\n",
              "      border-color: transparent;\n",
              "      border-right-color: var(--fill-color);\n",
              "      border-bottom-color: var(--fill-color);\n",
              "    }\n",
              "    90% {\n",
              "      border-color: transparent;\n",
              "      border-bottom-color: var(--fill-color);\n",
              "    }\n",
              "  }\n",
              "</style>\n",
              "\n",
              "      <script>\n",
              "        async function quickchart(key) {\n",
              "          const quickchartButtonEl =\n",
              "            document.querySelector('#' + key + ' button');\n",
              "          quickchartButtonEl.disabled = true;  // To prevent multiple clicks.\n",
              "          quickchartButtonEl.classList.add('colab-df-spinner');\n",
              "          try {\n",
              "            const charts = await google.colab.kernel.invokeFunction(\n",
              "                'suggestCharts', [key], {});\n",
              "          } catch (error) {\n",
              "            console.error('Error during call to suggestCharts:', error);\n",
              "          }\n",
              "          quickchartButtonEl.classList.remove('colab-df-spinner');\n",
              "          quickchartButtonEl.classList.add('colab-df-quickchart-complete');\n",
              "        }\n",
              "        (() => {\n",
              "          let quickchartButtonEl =\n",
              "            document.querySelector('#df-c4cb8e50-13d4-4f35-acb4-409cd7931c83 button');\n",
              "          quickchartButtonEl.style.display =\n",
              "            google.colab.kernel.accessAllowed ? 'block' : 'none';\n",
              "        })();\n",
              "      </script>\n",
              "    </div>\n",
              "\n",
              "    </div>\n",
              "  </div>\n"
            ],
            "application/vnd.google.colaboratory.intrinsic+json": {
              "type": "dataframe",
              "summary": "{\n  \"name\": \"iris_df\",\n  \"rows\": 8,\n  \"fields\": [\n    {\n      \"column\": \"sepal length (cm)\",\n      \"properties\": {\n        \"dtype\": \"number\",\n        \"std\": 51.24711349471842,\n        \"min\": 0.8280661279778629,\n        \"max\": 150.0,\n        \"num_unique_values\": 8,\n        \"samples\": [\n          5.843333333333334,\n          5.8,\n          150.0\n        ],\n        \"semantic_type\": \"\",\n        \"description\": \"\"\n      }\n    },\n    {\n      \"column\": \"sepal width (cm)\",\n      \"properties\": {\n        \"dtype\": \"number\",\n        \"std\": 52.08617800869866,\n        \"min\": 0.435866284936698,\n        \"max\": 150.0,\n        \"num_unique_values\": 8,\n        \"samples\": [\n          3.0573333333333337,\n          3.0,\n          150.0\n        ],\n        \"semantic_type\": \"\",\n        \"description\": \"\"\n      }\n    },\n    {\n      \"column\": \"petal length (cm)\",\n      \"properties\": {\n        \"dtype\": \"number\",\n        \"std\": 51.83521261418364,\n        \"min\": 1.0,\n        \"max\": 150.0,\n        \"num_unique_values\": 8,\n        \"samples\": [\n          3.7580000000000005,\n          4.35,\n          150.0\n        ],\n        \"semantic_type\": \"\",\n        \"description\": \"\"\n      }\n    },\n    {\n      \"column\": \"petal width (cm)\",\n      \"properties\": {\n        \"dtype\": \"number\",\n        \"std\": 52.636648242617504,\n        \"min\": 0.1,\n        \"max\": 150.0,\n        \"num_unique_values\": 8,\n        \"samples\": [\n          1.1993333333333336,\n          1.3,\n          150.0\n        ],\n        \"semantic_type\": \"\",\n        \"description\": \"\"\n      }\n    }\n  ]\n}"
            }
          },
          "metadata": {},
          "execution_count": 10
        }
      ]
    },
    {
      "cell_type": "markdown",
      "source": [
        "**Code explanation**\n",
        "\n",
        "The code demonstrates how to load a built-in dataset from scikit-learn and store it in a pandas DataFrame for data manipulation and analysis.\n",
        "This code loads the Iris dataset, converts it into a pandas DataFrame, and then displays the first few rows and summary statistics of the data.\n",
        "\n",
        "Here's a breakdown:\n",
        "\n",
        "    import pandas as pd: This line imports the pandas library and assigns it the alias pd, which is standard practice for working with pandas DataFrames.\n",
        "    from sklearn import datasets: This imports the datasets module from the scikit-learn library, which contains various sample datasets for machine learning.\n",
        "    iris = datasets.load_iris(): This loads the famous Iris dataset from scikit-learn. This dataset contains information about different species of iris flowers, including measurements of their sepal length, sepal width, petal length, and petal width.\n",
        "    iris_df = pd.DataFrame(iris.data, columns = iris.feature_names): This line creates a pandas DataFrame named iris_df. It takes the data from the iris.data attribute (which is a NumPy array) and uses the iris.feature_names attribute (a list of strings) as the column names for the DataFrame.\n",
        "    iris_df.head(): This method displays the first 5 rows of the iris_df DataFrame. This is useful for quickly inspecting the structure and initial data of the DataFrame.\n",
        "    iris_df.describe(): This method generates descriptive statistics of the numerical columns in the iris_df DataFrame. It provides information such as count, mean, standard deviation, minimum, maximum, and quartile values for each column.\n",
        "\n",
        "\n"
      ],
      "metadata": {
        "id": "qmBRTiaOfICp"
      }
    },
    {
      "cell_type": "markdown",
      "source": [
        "\n",
        "\n",
        "---\n",
        "\n",
        "Most security threats use email as an attack vector. Since the amount of traffic conveyed in\n",
        "this way is particularly large, it is necessary to use automated detection procedures that\n",
        "exploit machine learning (ML) algorithms.\n",
        "\n",
        "**Ham or Spam? Detecting Email Cybersecurity Threats with AI**\n",
        "\n",
        "Most security threats use email as an attack vector. Since the amount of traffic conveyed in\n",
        "this way is particularly large, it is necessary to use automated detection procedures that\n",
        "exploit machine learning (ML) algorithms.\n",
        "\n",
        "We will cover the following topics:\n",
        "\n",
        "* How to detect spam with Perceptrons\n",
        "* Image spam detection with support vector machines (SVMs)\n",
        "* Phishing detection with logistic regression and decision trees\n",
        "* Spam detection with Naive Bayes\n",
        "* Spam detection adopting NLP"
      ],
      "metadata": {
        "id": "80SSNLT6e7iq"
      }
    },
    {
      "cell_type": "markdown",
      "source": [
        "\n",
        "\n",
        "---\n",
        "\n"
      ],
      "metadata": {
        "id": "MTNHIf2JFA7F"
      }
    },
    {
      "cell_type": "markdown",
      "source": [
        "**A simple Perceptron-based spam filter**"
      ],
      "metadata": {
        "id": "XCl1TuGooc10"
      }
    },
    {
      "cell_type": "code",
      "source": [
        "import pandas as pd\n",
        "import numpy as np\n",
        "import matplotlib.pyplot as plt\n",
        "from matplotlib.colors import ListedColormap\n",
        "import warnings\n",
        "from textblob import TextBlob\n",
        "\n",
        "from google.colab import drive\n",
        "drive.mount('/content/drive')\n",
        "\n",
        "\n",
        "\n",
        "def get_tokens(msg):\n",
        "    return TextBlob(str(msg)).words\n",
        "\n",
        "def get_lemmas(msg):\n",
        "    lemmas = []\n",
        "    words  = get_tokens(msg)\n",
        "\n",
        "    for word in words:\n",
        "        lemmas.append(word.lemma)\n",
        "\n",
        "    return lemmas\n",
        "\n",
        "\n",
        "def versiontuple(v):\n",
        "    return tuple(map(int, (v.split(\".\"))))\n",
        "\n",
        "def plot_decision_regions(X, y, classifier, test_idx=None, resolution=0.02):\n",
        "\n",
        "    # setup marker generator and color map\n",
        "    markers = ('s', 'x', 'o', '^', 'v')\n",
        "    colors = ('red', 'blue', 'lightgreen', 'gray', 'cyan')\n",
        "    cmap = ListedColormap(colors[:len(np.unique(y))])\n",
        "\n",
        "    # plot the decision surface\n",
        "    x1_min, x1_max = X[:, 0].min() - 1, X[:, 0].max() + 1\n",
        "    x2_min, x2_max = X[:, 1].min() - 1, X[:, 1].max() + 1\n",
        "    xx1, xx2 = np.meshgrid(np.arange(x1_min, x1_max, resolution),\n",
        "                           np.arange(x2_min, x2_max, resolution))\n",
        "    Z = classifier.predict(np.array([xx1.ravel(), xx2.ravel()]).T)\n",
        "    Z = Z.reshape(xx1.shape)\n",
        "    plt.contourf(xx1, xx2, Z, alpha=0.4, cmap=cmap)\n",
        "    plt.xlim(xx1.min(), xx1.max())\n",
        "    plt.ylim(xx2.min(), xx2.max())\n",
        "\n",
        "    for idx, cl in enumerate(np.unique(y)):\n",
        "        plt.scatter(x=X[y == cl, 0], y=X[y == cl, 1],\n",
        "                    alpha=0.8, c=colors[idx],\n",
        "                    marker=markers[idx], label=cl)\n",
        "\n",
        "    # highlight test samples\n",
        "    if test_idx:\n",
        "        # plot all samples\n",
        "        if not versiontuple(np.__version__) >= versiontuple('1.9.0'):\n",
        "            X_test, y_test = X[list(test_idx), :], y[list(test_idx)]\n",
        "            warnings.warn('Please update to NumPy 1.9.0 or newer')\n",
        "        else:\n",
        "            X_test, y_test = X[test_idx, :], y[test_idx]\n",
        "\n",
        "        plt.scatter(X_test[:, 0],\n",
        "                    X_test[:, 1],\n",
        "                    facecolors='none',\n",
        "                    edgecolors='black',\n",
        "                    alpha=1.0,\n",
        "                    linewidths=1,\n",
        "                    marker='o',\n",
        "                    s=55, label='test set')\n",
        "\n",
        "\n",
        "\n",
        "\n",
        "\n",
        "df = pd.read_csv('/content/drive/My Drive/PICTURES_CYBER/sms_spam_perceptron.csv')\n",
        "\n",
        "y = df.iloc[:, 0].values\n",
        "y = np.where(y == 'spam', -1, 1)\n",
        "\n",
        "X = df.iloc[:, [1, 2]].values\n",
        "\n",
        "from sklearn.model_selection import train_test_split\n",
        "\n",
        "X_train, X_test, y_train, y_test = train_test_split(\n",
        "         X, y, test_size=0.3, random_state=0)\n",
        "\n",
        "\n",
        "from sklearn.linear_model import Perceptron\n",
        "\n",
        "p = Perceptron(max_iter=40, eta0=0.1, random_state=0)\n",
        "p.fit(X_train, y_train)\n",
        "\n",
        "y_pred = p.predict(X_test)\n",
        "\n",
        "#from defs import plot_decision_regions\n",
        "\n",
        "X_combined = np.vstack((X_train, X_test))\n",
        "y_combined = np.hstack((y_train, y_test))\n",
        "\n",
        "plot_decision_regions(X=X_combined, y=y_combined,\n",
        "                      classifier=p, test_idx=range(-5, 5))\n",
        "plt.xlabel('suspect words')\n",
        "plt.ylabel('spam or ham')\n",
        "plt.legend(loc='upper right')\n",
        "\n",
        "plt.tight_layout()\n",
        "plt.show()\n",
        "\n",
        "\n",
        "\n",
        "\n",
        "from sklearn.metrics import accuracy_score\n",
        "\n",
        "print('Misclassified samples: %d' % (y_test != y_pred).sum())\n",
        "print('Accuracy: %.2f' % accuracy_score(y_test, y_pred))\n",
        "\n",
        "\n"
      ],
      "metadata": {
        "colab": {
          "base_uri": "https://localhost:8080/",
          "height": 539
        },
        "id": "73r3zqcHofu0",
        "outputId": "65f4633c-1abe-455e-abbf-972263d9d5f4"
      },
      "execution_count": 14,
      "outputs": [
        {
          "output_type": "stream",
          "name": "stdout",
          "text": [
            "Drive already mounted at /content/drive; to attempt to forcibly remount, call drive.mount(\"/content/drive\", force_remount=True).\n"
          ]
        },
        {
          "output_type": "display_data",
          "data": {
            "text/plain": [
              "<Figure size 640x480 with 1 Axes>"
            ],
            "image/png": "[encoded data removed]"
          },
          "metadata": {}
        },
        {
          "output_type": "stream",
          "name": "stdout",
          "text": [
            "Misclassified samples: 7\n",
            "Accuracy: 0.77\n"
          ]
        }
      ]
    },
    {
      "cell_type": "markdown",
      "source": [
        "\n",
        "\n",
        "\n",
        "---\n",
        "\n",
        "\n",
        "\n",
        "**SVM spam filter example**\n",
        "\n",
        "Let's go back to our sample spam filter, and replace the Perceptron with an SVM, as we\n",
        "have seen in the identification of the hyperplane that we are not limited to using linear\n",
        "classifier models only (being able to choose between classifiers characterized by greater\n",
        "complexity)."
      ],
      "metadata": {
        "id": "3YMncOGg_iR_"
      }
    },
    {
      "cell_type": "code",
      "source": [
        "\n",
        "\n",
        "import pandas as pd\n",
        "import numpy as np\n",
        "import matplotlib.pyplot as plt\n",
        "from matplotlib.colors import ListedColormap\n",
        "import warnings\n",
        "from textblob import TextBlob\n",
        "\n",
        "\n",
        "from google.colab import drive\n",
        "drive.mount('/content/drive')\n",
        "\n",
        "def get_tokens(msg):\n",
        "    return TextBlob(str(msg)).words\n",
        "\n",
        "def get_lemmas(msg):\n",
        "    lemmas = []\n",
        "    words  = get_tokens(msg)\n",
        "\n",
        "    for word in words:\n",
        "        lemmas.append(word.lemma)\n",
        "\n",
        "    return lemmas\n",
        "\n",
        "\n",
        "def versiontuple(v):\n",
        "    return tuple(map(int, (v.split(\".\"))))\n",
        "\n",
        "def plot_decision_regions(X, y, classifier, test_idx=None, resolution=0.02):\n",
        "\n",
        "    # setup marker generator and color map\n",
        "    markers = ('s', 'x', 'o', '^', 'v')\n",
        "    colors = ('red', 'blue', 'lightgreen', 'gray', 'cyan')\n",
        "    cmap = ListedColormap(colors[:len(np.unique(y))])\n",
        "\n",
        "    # plot the decision surface\n",
        "    x1_min, x1_max = X[:, 0].min() - 1, X[:, 0].max() + 1\n",
        "    x2_min, x2_max = X[:, 1].min() - 1, X[:, 1].max() + 1\n",
        "    xx1, xx2 = np.meshgrid(np.arange(x1_min, x1_max, resolution),\n",
        "                           np.arange(x2_min, x2_max, resolution))\n",
        "    Z = classifier.predict(np.array([xx1.ravel(), xx2.ravel()]).T)\n",
        "    Z = Z.reshape(xx1.shape)\n",
        "    plt.contourf(xx1, xx2, Z, alpha=0.4, cmap=cmap)\n",
        "    plt.xlim(xx1.min(), xx1.max())\n",
        "    plt.ylim(xx2.min(), xx2.max())\n",
        "\n",
        "    for idx, cl in enumerate(np.unique(y)):\n",
        "        plt.scatter(x=X[y == cl, 0], y=X[y == cl, 1],\n",
        "                    alpha=0.8, c=colors[idx],\n",
        "                    marker=markers[idx], label=cl)\n",
        "\n",
        "    # highlight test samples\n",
        "    if test_idx:\n",
        "        # plot all samples\n",
        "        if not versiontuple(np.__version__) >= versiontuple('1.9.0'):\n",
        "            X_test, y_test = X[list(test_idx), :], y[list(test_idx)]\n",
        "            warnings.warn('Please update to NumPy 1.9.0 or newer')\n",
        "        else:\n",
        "            X_test, y_test = X[test_idx, :], y[test_idx]\n",
        "\n",
        "        plt.scatter(X_test[:, 0],\n",
        "                    X_test[:, 1],\n",
        "                    facecolors='none',\n",
        "                    edgecolors='black',\n",
        "                    alpha=1.0,\n",
        "                    linewidths=1,\n",
        "                    marker='o',\n",
        "                    s=55, label='test set')\n",
        "\n",
        "\n",
        "\n",
        "\n",
        "\n",
        "\n",
        "df = pd.read_csv('/content/drive/My Drive/PICTURES_CYBER/sms_spam_svm.csv')\n",
        "\n",
        "y = df.iloc[:, 0].values\n",
        "y = np.where(y == 'spam', -1, 1)\n",
        "\n",
        "X = df.iloc[:, [1, 2]].values\n",
        "\n",
        "from sklearn.model_selection import train_test_split\n",
        "\n",
        "X_train, X_test, y_train, y_test = train_test_split(\n",
        "         X, y, test_size=0.3, random_state=0)\n",
        "\n",
        "\n",
        "from sklearn.svm import SVC\n",
        "\n",
        "svm = SVC(kernel='linear', C=1.0, random_state=1)\n",
        "svm.fit(X_train, y_train)\n",
        "\n",
        "y_pred = svm.predict(X_test)\n",
        "\n",
        "\n",
        "X_combined = np.vstack((X_train, X_test))\n",
        "y_combined = np.hstack((y_train, y_test))\n",
        "\n",
        "plot_decision_regions(X_combined, y_combined,\n",
        "                      classifier=svm, test_idx=range(-15, 15))\n",
        "plt.xlabel('suspect words')\n",
        "plt.ylabel('spam or ham')\n",
        "plt.legend(loc='upper right')\n",
        "plt.tight_layout()\n",
        "plt.show()\n",
        "\n",
        "\n",
        "\n",
        "\n",
        "\n",
        "from sklearn.metrics import accuracy_score\n",
        "\n",
        "print('Misclassified samples: %d' % (y_test != y_pred).sum())\n",
        "print('Accuracy: %.2f' % accuracy_score(y_test, y_pred))\n",
        "\n"
      ],
      "metadata": {
        "colab": {
          "base_uri": "https://localhost:8080/",
          "height": 539
        },
        "id": "jFkmFCQV_zAv",
        "outputId": "55faadb4-c86a-4a54-e57b-d0dfba198afb"
      },
      "execution_count": 15,
      "outputs": [
        {
          "output_type": "stream",
          "name": "stdout",
          "text": [
            "Drive already mounted at /content/drive; to attempt to forcibly remount, call drive.mount(\"/content/drive\", force_remount=True).\n"
          ]
        },
        {
          "output_type": "display_data",
          "data": {
            "text/plain": [
              "<Figure size 640x480 with 1 Axes>"
            ],
            "image/png": "[encoded data removed]"
          },
          "metadata": {}
        },
        {
          "output_type": "stream",
          "name": "stdout",
          "text": [
            "Misclassified samples: 7\n",
            "Accuracy: 0.84\n"
          ]
        }
      ]
    },
    {
      "cell_type": "markdown",
      "source": [
        "\n",
        "\n",
        "\n",
        "---\n",
        "\n",
        "\n",
        "\n",
        "**Linear regression with scikit-learn**\n",
        "\n",
        "In the following code snippet, we will see how to implement a simple predictive model\n",
        "based on linear regression, using the linear_model module of scikit-learn , which we\n",
        "will feed with one of the previously used spam message datasets:"
      ],
      "metadata": {
        "id": "pKdbCzMICLyr"
      }
    },
    {
      "cell_type": "code",
      "source": [
        "\n",
        "\n",
        "import pandas as pd\n",
        "import numpy as np\n",
        "\n",
        "from google.colab import drive\n",
        "drive.mount('/content/drive')\n",
        "\n",
        "df = pd.read_csv('/content/drive/My Drive/PICTURES_CYBER/sms_spam_perceptron.csv')\n",
        "\n",
        "X = df.iloc[:, [1, 2]].values\n",
        "\n",
        "y = df.iloc[:, 0].values\n",
        "y = np.where(y == 'spam', -1, 1)\n",
        "\n",
        "from sklearn.linear_model import LinearRegression\n",
        "\n",
        "linear_regression = LinearRegression()\n",
        "linear_regression.fit(X,y)\n",
        "\n",
        "print (linear_regression.score(X,y))\n",
        "\n"
      ],
      "metadata": {
        "colab": {
          "base_uri": "https://localhost:8080/"
        },
        "id": "jJPkcBYiCRWq",
        "outputId": "d8f6eb86-ce5e-482d-904f-12b84c58b15d"
      },
      "execution_count": 16,
      "outputs": [
        {
          "output_type": "stream",
          "name": "stdout",
          "text": [
            "Drive already mounted at /content/drive; to attempt to forcibly remount, call drive.mount(\"/content/drive\", force_remount=True).\n",
            "0.5609580848733504\n"
          ]
        }
      ]
    },
    {
      "cell_type": "markdown",
      "source": [
        "To verify the accuracy of the predictions provided by the linear regression model, we can\n",
        "use the score() method, which gives us the measurement of the coefficient of the\n",
        "R 2 determination.\n",
        "This coefficient varies between 0 and 1 , and measures how much better the predictions\n",
        "returned by the linear model are, when compared to the simple mean.\n",
        "\n",
        "\n",
        "\n",
        "---\n",
        "\n"
      ],
      "metadata": {
        "id": "Iw_su5mqEynM"
      }
    },
    {
      "cell_type": "markdown",
      "source": [
        "**A phishing detector with logistic regression**\n",
        "\n",
        "We can then use logistic regression to implement a phishing detector, exploiting the fact\n",
        "that logistic regression is particularly useful for solving classification problems. Like spam\n",
        "detection, phishing detection is nothing more than a sample classification task"
      ],
      "metadata": {
        "id": "hwSOGt68DtD9"
      }
    },
    {
      "cell_type": "code",
      "source": [
        "\n",
        "\n",
        "import pandas as pd\n",
        "import numpy as np\n",
        "from sklearn import *\n",
        "from sklearn.linear_model import LogisticRegression\n",
        "from sklearn.metrics import accuracy_score\n",
        "import warnings\n",
        "warnings.simplefilter('ignore')\n",
        "\n",
        "from google.colab import drive\n",
        "drive.mount('/content/drive')\n",
        "\n",
        "\n",
        "phishing_dataset = np.genfromtxt('/content/drive/My Drive/PICTURES_CYBER/phishing_dataset.csv', delimiter=',', dtype=np.int32)\n",
        "samples = phishing_dataset[:,:-1]\n",
        "targets = phishing_dataset[:, -1]\n",
        "\n",
        "from sklearn.model_selection import train_test_split\n",
        "\n",
        "training_samples, testing_samples, training_targets, testing_targets = train_test_split(\n",
        "         samples, targets, test_size=0.2, random_state=0)\n",
        "\n",
        "\n",
        "log_classifier = LogisticRegression()\n",
        "\n",
        "\n",
        "log_classifier.fit(training_samples, training_targets)\n",
        "\n",
        "predictions = log_classifier.predict(testing_samples)\n",
        "\n",
        "accuracy = 100.0 * accuracy_score(testing_targets, predictions)\n",
        "print (\"Logistic Regression accuracy: \" + str(accuracy))\n"
      ],
      "metadata": {
        "colab": {
          "base_uri": "https://localhost:8080/"
        },
        "id": "W9YYdWfpD6KX",
        "outputId": "163d75b1-54cd-4b96-8c39-aaf1eba4d69e"
      },
      "execution_count": 19,
      "outputs": [
        {
          "output_type": "stream",
          "name": "stdout",
          "text": [
            "Drive already mounted at /content/drive; to attempt to forcibly remount, call drive.mount(\"/content/drive\", force_remount=True).\n",
            "Logistic Regression accuracy: 91.72320217096338\n"
          ]
        }
      ]
    },
    {
      "cell_type": "markdown",
      "source": [
        "As we can see, the level of accuracy of the logistic regression classifier is quite good, as the\n",
        "model is able to correctly detect over 90% of URLs."
      ],
      "metadata": {
        "id": "fzrZIw5HElP_"
      }
    }
  ]
}