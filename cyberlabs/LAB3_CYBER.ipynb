{
  "nbformat": 4,
  "nbformat_minor": 0,
  "metadata": {
    "colab": {
      "provenance": [],
      "gpuType": "T4",
      "authorship_tag": "ABX9TyMGgNWx/oU3DWNhP2AccTYb",
      "include_colab_link": true
    },
    "kernelspec": {
      "name": "python3",
      "display_name": "Python 3"
    },
    "language_info": {
      "name": "python"
    },
    "accelerator": "GPU"
  },
  "cells": [
    {
      "cell_type": "markdown",
      "metadata": {
        "id": "view-in-github",
        "colab_type": "text"
      },
      "source": [
        "<a href=\"https://colab.research.google.com/github/chandrajitpal/Cybersecurity/blob/main/cyberlabs/LAB3_CYBER.ipynb\" target=\"_parent\"><img src=\"https://colab.research.google.com/assets/colab-badge.svg\" alt=\"Open In Colab\"/></a>"
      ]
    },
    {
      "cell_type": "code",
      "source": [],
      "metadata": {
        "id": "wlga5E9EtDHD"
      },
      "execution_count": null,
      "outputs": []
    },
    {
      "cell_type": "markdown",
      "source": [
        "**Malware Threat Detection**"
      ],
      "metadata": {
        "id": "ercm-ky6tBmC"
      }
    },
    {
      "cell_type": "code",
      "source": [
        "\n",
        "\n",
        "import pandas as pd\n",
        "import numpy as np\n",
        "import matplotlib.pyplot as plt\n",
        "from matplotlib.colors import ListedColormap\n",
        "from textblob import TextBlob\n",
        "\n",
        "from sklearn.cluster import KMeans\n",
        "from sklearn.metrics import silhouette_score\n",
        "\n",
        "import warnings\n",
        "warnings.simplefilter('ignore')\n",
        "\n",
        "\n",
        "from google.colab import drive\n",
        "drive.mount('/content/drive')\n",
        "\n",
        "malware_dataset = pd.read_csv('/content/drive/My Drive/PICTURES_CYBER/MalwareArtifacts.csv' , delimiter=',')\n",
        "\n",
        "# Extacting artifacts samples fields 'MajorLinkerVersion,MajorImageVersion,MajorOperatingSystemVersion,DllCharacteristics'\n",
        "samples = malware_dataset.iloc[:, [1,2,3,4]].values\n",
        "targets = malware_dataset.iloc[:, 8].values\n",
        "\n",
        "\n",
        "k_means = KMeans(n_clusters=2,max_iter=300)\n",
        "k_means.fit(samples)\n",
        "\n",
        "print (\"K-means labels: \" + str(k_means.labels_))\n",
        "print (\"\\nK-means Clustering Results:\\n\\n\", pd.crosstab(targets, k_means.labels_,rownames = [\"Observed\"],colnames = [\"Predicted\"]) )\n",
        "print (\"\\nSilhouette coefficient: %0.3f\" % silhouette_score(samples, k_means.labels_, metric='euclidean'))\n"
      ],
      "metadata": {
        "id": "lbqLl73ogVpU",
        "colab": {
          "base_uri": "https://localhost:8080/"
        },
        "outputId": "98c2da3e-ec56-4aed-d6e1-14a096f80497"
      },
      "execution_count": 8,
      "outputs": [
        {
          "output_type": "stream",
          "name": "stdout",
          "text": [
            "Drive already mounted at /content/drive; to attempt to forcibly remount, call drive.mount(\"/content/drive\", force_remount=True).\n",
            "K-means labels: [1 1 1 ... 1 0 1]\n",
            "\n",
            "K-means Clustering Results:\n",
            "\n",
            " Predicted      0      1\n",
            "Observed               \n",
            "0          13107  83419\n",
            "1          32082   8836\n",
            "\n",
            "Silhouette coefficient: 0.975\n"
          ]
        }
      ]
    },
    {
      "cell_type": "markdown",
      "source": [
        "**Detecting malwares with decision trees**"
      ],
      "metadata": {
        "id": "F3rA4g9dvGSW"
      }
    },
    {
      "cell_type": "code",
      "source": [
        "\n",
        "\n",
        "import pandas as pd\n",
        "import numpy as np\n",
        "from sklearn import *\n",
        "\n",
        "from sklearn.metrics import accuracy_score\n",
        "import warnings\n",
        "warnings.simplefilter('ignore')\n",
        "\n",
        "from google.colab import drive\n",
        "drive.mount('/content/drive')\n",
        "\n",
        "malware_dataset = pd.read_csv('/content/drive/My Drive/PICTURES_CYBER/MalwareArtifacts.csv', delimiter=',')\n",
        "\n",
        "\n",
        "# Extacting artifacts samples fields \"AddressOfEntryPoint\" and \"DllCharacteristics\"\n",
        "samples = malware_dataset.iloc[:, [0, 4]].values\n",
        "targets = malware_dataset.iloc[:, 8].values\n",
        "\n",
        "from sklearn.model_selection import train_test_split\n",
        "\n",
        "training_samples, testing_samples, training_targets, testing_targets = train_test_split(\n",
        "         samples, targets, test_size=0.2, random_state=0)\n",
        "\n",
        "\n",
        "from sklearn import tree\n",
        "tree_classifier = tree.DecisionTreeClassifier()\n",
        "\n",
        "tree_classifier.fit(training_samples, training_targets)\n",
        "\n",
        "\n",
        "\n",
        "predictions = tree_classifier.predict(testing_samples)\n",
        "\n",
        "accuracy = 100.0 * accuracy_score(testing_targets, predictions)\n",
        "print (\"Decision Tree accuracy: \" + str(accuracy))\n",
        "\n"
      ],
      "metadata": {
        "colab": {
          "base_uri": "https://localhost:8080/"
        },
        "id": "cfiHCZ-QvJLS",
        "outputId": "edcb4648-07c7-440e-afd5-f95ef5e68e9f"
      },
      "execution_count": 9,
      "outputs": [
        {
          "output_type": "stream",
          "name": "stdout",
          "text": [
            "Drive already mounted at /content/drive; to attempt to forcibly remount, call drive.mount(\"/content/drive\", force_remount=True).\n",
            "Decision Tree accuracy: 96.27487358579796\n"
          ]
        }
      ]
    },
    {
      "cell_type": "markdown",
      "source": [
        "**Random Forest Malware Classifier**"
      ],
      "metadata": {
        "id": "pdaRgMhK5gLs"
      }
    },
    {
      "cell_type": "code",
      "source": [
        "\n",
        "\n",
        "import pandas as pd\n",
        "import numpy as np\n",
        "from sklearn import *\n",
        "\n",
        "import warnings\n",
        "warnings.simplefilter('ignore')\n",
        "\n",
        "\n",
        "from google.colab import drive\n",
        "drive.mount('/content/drive')\n",
        "\n",
        "malware_dataset = pd.read_csv('/content/drive/My Drive/PICTURES_CYBER/MalwareArtifacts.csv', delimiter=',')\n",
        "\n",
        "# Extacting artifacts samples fields \"AddressOfEntryPoint\" and \"DllCharacteristics\"\n",
        "samples = malware_dataset.iloc[:, [0,4]].values\n",
        "targets = malware_dataset.iloc[:, 8].values\n",
        "\n",
        "from sklearn.model_selection import train_test_split\n",
        "\n",
        "training_samples, testing_samples, training_targets, testing_targets = train_test_split(samples, targets, test_size=0.2)\n",
        "\n",
        "rfc =  ensemble.RandomForestClassifier(n_estimators=50)\n",
        "rfc.fit(training_samples, training_targets)\n",
        "accuracy = rfc.score(testing_samples, testing_targets)\n",
        "\n",
        "print(\"Random Forest Classifier accuracy: \" + str(accuracy*100) )\n",
        "\n"
      ],
      "metadata": {
        "colab": {
          "base_uri": "https://localhost:8080/"
        },
        "id": "bhx3nBqS5h5I",
        "outputId": "eaf7840f-091f-4485-e73e-aa4faa6ab914"
      },
      "execution_count": 10,
      "outputs": [
        {
          "output_type": "stream",
          "name": "stdout",
          "text": [
            "Drive already mounted at /content/drive; to attempt to forcibly remount, call drive.mount(\"/content/drive\", force_remount=True).\n",
            "Random Forest Classifier accuracy: 96.62046636836553\n"
          ]
        }
      ]
    },
    {
      "cell_type": "markdown",
      "source": [
        "**Detecting metamorphic malware with HMMs**"
      ],
      "metadata": {
        "id": "spSC8JTX8Bqq"
      }
    },
    {
      "cell_type": "code",
      "source": [
        "!pip install hidden_markov"
      ],
      "metadata": {
        "id": "100Vg8bv7dYd",
        "outputId": "b9903b42-7a2b-423a-ed3c-7bff0e49d451",
        "colab": {
          "base_uri": "https://localhost:8080/"
        }
      },
      "execution_count": 16,
      "outputs": [
        {
          "output_type": "stream",
          "name": "stdout",
          "text": [
            "Requirement already satisfied: hidden_markov in /usr/local/lib/python3.11/dist-packages (0.3.2)\n",
            "Requirement already satisfied: numpy in /usr/local/lib/python3.11/dist-packages (from hidden_markov) (2.0.2)\n"
          ]
        }
      ]
    },
    {
      "cell_type": "markdown",
      "source": [
        "In our example, the possible observations are as follows:\n",
        "ob_types = ('W','N' )\n",
        "\n",
        "Here, W stands for Working and N for Not Working, while the hidden states are as follows:\n",
        "states = (‘L’, ’M')\n",
        "\n",
        "Here, M corresponds to Malicious and L corresponds to Legitimate.\n",
        "\n",
        "The sequence of observations comes next, which is associated to the single instructions that get executed by the program:\n",
        "observations = (‘W’,‘W’,‘W’,‘N’)\n",
        "\n",
        "This sequence of observations tells us that after the execution of the first three instructions\n",
        "of the program, the machine worked properly, while it stopped working only after\n",
        "executing the fourth instruction.\n",
        "\n",
        "On the basis of this sequence of observable events, we must proceed with the training of the\n",
        "HMM. To this end, we will pass our probability matrices (as defined previously) to the\n",
        "algorithm, corresponding to the start matrix:\n",
        "\n",
        "start = np.matrix(‘0.1 0.9’)\n",
        "\n",
        "*The transition matrix is as follows:*\n",
        "\n",
        "transition = np.matrix(‘0.7 0.3 ; 0.1 0.9’)\n",
        "\n",
        "*The emission matrix is as follows:*\n",
        "\n",
        "emission = np.matrix(‘0.2 0.8 ; 0.4 0.6’)"
      ],
      "metadata": {
        "id": "R02KqNRt8UBm"
      }
    },
    {
      "cell_type": "code",
      "source": [
        "import numpy as np\n",
        "from hidden_markov import hmm\n",
        "\n",
        "ob_types = ('W','N' )\n",
        "\n",
        "states = ('L', 'M')\n",
        "\n",
        "observations = ('W','W','W','N')\n",
        "\n",
        "start = np.matrix('0.1 0.9')\n",
        "transition = np.matrix('0.7 0.3 ; 0.1 0.9')\n",
        "emission = np.matrix('0.2 0.8 ; 0.4 0.6')\n",
        "\n",
        "_hmm = hmm(states,ob_types,start,transition,emission)\n",
        "\n",
        "print(\"Forward algorithm: \")\n",
        "print ( _hmm.forward_algo(observations) )\n",
        "\n",
        "print(\"\\nViterbi algorithm: \")\n",
        "print( _hmm.viterbi(observations) )"
      ],
      "metadata": {
        "colab": {
          "base_uri": "https://localhost:8080/"
        },
        "id": "mwozs-wn6rIX",
        "outputId": "0b25dd34-5f51-4532-dbd8-d48cb9c0dcea"
      },
      "execution_count": 15,
      "outputs": [
        {
          "output_type": "stream",
          "name": "stdout",
          "text": [
            "Forward algorithm: \n",
            "0.033196\n",
            "\n",
            "Viterbi algorithm: \n",
            "['M', 'M', 'M', 'M']\n"
          ]
        }
      ]
    },
    {
      "cell_type": "markdown",
      "source": [
        "Forward algorithm gives us the probability of an observed sequence in the HMM, while\n",
        "\n",
        "Viterbi algorithm is used to find out the most likely sequence of hidden states that can\n",
        "generate the given set of observations."
      ],
      "metadata": {
        "id": "LhNw7_Sb9Dg7"
      }
    }
  ]
}