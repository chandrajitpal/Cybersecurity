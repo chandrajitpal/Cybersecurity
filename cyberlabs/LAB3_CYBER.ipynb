{
  "nbformat": 4,
  "nbformat_minor": 0,
  "metadata": {
    "colab": {
      "provenance": [],
      "gpuType": "T4",
      "authorship_tag": "ABX9TyN2elGpA1hLaY1EOLABidLZ",
      "include_colab_link": true
    },
    "kernelspec": {
      "name": "python3",
      "display_name": "Python 3"
    },
    "language_info": {
      "name": "python"
    },
    "accelerator": "GPU"
  },
  "cells": [
    {
      "cell_type": "markdown",
      "metadata": {
        "id": "view-in-github",
        "colab_type": "text"
      },
      "source": [
        "<a href=\"https://colab.research.google.com/github/chandrajitpal/Cybersecurity/blob/main/cyberlabs/LAB3_CYBER.ipynb\" target=\"_parent\"><img src=\"https://colab.research.google.com/assets/colab-badge.svg\" alt=\"Open In Colab\"/></a>"
      ]
    },
    {
      "cell_type": "code",
      "source": [],
      "metadata": {
        "id": "wlga5E9EtDHD"
      },
      "execution_count": null,
      "outputs": []
    },
    {
      "cell_type": "markdown",
      "source": [
        "**Malware Threat Detection**"
      ],
      "metadata": {
        "id": "ercm-ky6tBmC"
      }
    },
    {
      "cell_type": "code",
      "source": [
        "\n",
        "\n",
        "import pandas as pd\n",
        "import numpy as np\n",
        "import matplotlib.pyplot as plt\n",
        "from matplotlib.colors import ListedColormap\n",
        "from textblob import TextBlob\n",
        "\n",
        "from sklearn.cluster import KMeans\n",
        "from sklearn.metrics import silhouette_score\n",
        "\n",
        "import warnings\n",
        "warnings.simplefilter('ignore')\n",
        "\n",
        "\n",
        "from google.colab import drive\n",
        "drive.mount('/content/drive')\n",
        "\n",
        "malware_dataset = pd.read_csv('/content/drive/My Drive/PICTURES_CYBER/MalwareArtifacts.csv' , delimiter=',')\n",
        "\n",
        "# Extacting artifacts samples fields 'MajorLinkerVersion,MajorImageVersion,MajorOperatingSystemVersion,DllCharacteristics'\n",
        "samples = malware_dataset.iloc[:, [1,2,3,4]].values\n",
        "targets = malware_dataset.iloc[:, 8].values\n",
        "\n",
        "\n",
        "k_means = KMeans(n_clusters=2,max_iter=300)\n",
        "k_means.fit(samples)\n",
        "\n",
        "print (\"K-means labels: \" + str(k_means.labels_))\n",
        "print (\"\\nK-means Clustering Results:\\n\\n\", pd.crosstab(targets, k_means.labels_,rownames = [\"Observed\"],colnames = [\"Predicted\"]) )\n",
        "print (\"\\nSilhouette coefficient: %0.3f\" % silhouette_score(samples, k_means.labels_, metric='euclidean'))\n"
      ],
      "metadata": {
        "id": "lbqLl73ogVpU",
        "outputId": "98c2da3e-ec56-4aed-d6e1-14a096f80497",
        "colab": {
          "base_uri": "https://localhost:8080/"
        }
      },
      "execution_count": 8,
      "outputs": [
        {
          "output_type": "stream",
          "name": "stdout",
          "text": [
            "Drive already mounted at /content/drive; to attempt to forcibly remount, call drive.mount(\"/content/drive\", force_remount=True).\n",
            "K-means labels: [1 1 1 ... 1 0 1]\n",
            "\n",
            "K-means Clustering Results:\n",
            "\n",
            " Predicted      0      1\n",
            "Observed               \n",
            "0          13107  83419\n",
            "1          32082   8836\n",
            "\n",
            "Silhouette coefficient: 0.975\n"
          ]
        }
      ]
    },
    {
      "cell_type": "markdown",
      "source": [
        "**Detecting malwares with decision trees**"
      ],
      "metadata": {
        "id": "F3rA4g9dvGSW"
      }
    },
    {
      "cell_type": "code",
      "source": [
        "\n",
        "\n",
        "import pandas as pd\n",
        "import numpy as np\n",
        "from sklearn import *\n",
        "\n",
        "from sklearn.metrics import accuracy_score\n",
        "import warnings\n",
        "warnings.simplefilter('ignore')\n",
        "\n",
        "from google.colab import drive\n",
        "drive.mount('/content/drive')\n",
        "\n",
        "malware_dataset = pd.read_csv('/content/drive/My Drive/PICTURES_CYBER/MalwareArtifacts.csv', delimiter=',')\n",
        "\n",
        "\n",
        "# Extacting artifacts samples fields \"AddressOfEntryPoint\" and \"DllCharacteristics\"\n",
        "samples = malware_dataset.iloc[:, [0, 4]].values\n",
        "targets = malware_dataset.iloc[:, 8].values\n",
        "\n",
        "from sklearn.model_selection import train_test_split\n",
        "\n",
        "training_samples, testing_samples, training_targets, testing_targets = train_test_split(\n",
        "         samples, targets, test_size=0.2, random_state=0)\n",
        "\n",
        "\n",
        "from sklearn import tree\n",
        "tree_classifier = tree.DecisionTreeClassifier()\n",
        "\n",
        "tree_classifier.fit(training_samples, training_targets)\n",
        "\n",
        "\n",
        "\n",
        "predictions = tree_classifier.predict(testing_samples)\n",
        "\n",
        "accuracy = 100.0 * accuracy_score(testing_targets, predictions)\n",
        "print (\"Decision Tree accuracy: \" + str(accuracy))\n",
        "\n"
      ],
      "metadata": {
        "id": "cfiHCZ-QvJLS",
        "outputId": "edcb4648-07c7-440e-afd5-f95ef5e68e9f",
        "colab": {
          "base_uri": "https://localhost:8080/"
        }
      },
      "execution_count": 9,
      "outputs": [
        {
          "output_type": "stream",
          "name": "stdout",
          "text": [
            "Drive already mounted at /content/drive; to attempt to forcibly remount, call drive.mount(\"/content/drive\", force_remount=True).\n",
            "Decision Tree accuracy: 96.27487358579796\n"
          ]
        }
      ]
    }
  ]
}