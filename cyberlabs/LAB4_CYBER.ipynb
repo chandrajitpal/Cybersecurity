{
  "nbformat": 4,
  "nbformat_minor": 0,
  "metadata": {
    "colab": {
      "provenance": [],
      "authorship_tag": "ABX9TyNdfDZVDPpMeq+F8xkgNsee",
      "include_colab_link": true
    },
    "kernelspec": {
      "name": "python3",
      "display_name": "Python 3"
    },
    "language_info": {
      "name": "python"
    }
  },
  "cells": [
    {
      "cell_type": "markdown",
      "metadata": {
        "id": "view-in-github",
        "colab_type": "text"
      },
      "source": [
        "<a href=\"https://colab.research.google.com/github/chandrajitpal/Cybersecurity/blob/main/cyberlabs/LAB4_CYBER.ipynb\" target=\"_parent\"><img src=\"https://colab.research.google.com/assets/colab-badge.svg\" alt=\"Open In Colab\"/></a>"
      ]
    },
    {
      "cell_type": "markdown",
      "source": [
        "# **Network Anomaly Detection with AI**"
      ],
      "metadata": {
        "id": "wRs1zHJjJjLK"
      }
    },
    {
      "cell_type": "code",
      "execution_count": null,
      "metadata": {
        "id": "1cxducqBJaYn"
      },
      "outputs": [],
      "source": [
        "# prompt: print hello world using rot13\n",
        "\n",
        "import codecs\n",
        "\n",
        "# Function to encode a string using ROT13\n",
        "def rot13_encode(text):\n",
        "  return codecs.encode(text, 'rot_enc_13')\n",
        "\n",
        "# String to encode\n",
        "hello_world = \"hello world\"\n",
        "\n",
        "# Encode the string\n",
        "encoded_hello_world = rot13_encode(hello_world)\n",
        "\n",
        "# Print the encoded string\n",
        "encoded_hello_world"
      ]
    },
    {
      "cell_type": "markdown",
      "source": [],
      "metadata": {
        "id": "WgYlXdcSJgeP"
      }
    }
  ]
}